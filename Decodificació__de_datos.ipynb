{
  "nbformat": 4,
  "nbformat_minor": 0,
  "metadata": {
    "colab": {
      "provenance": [],
      "authorship_tag": "ABX9TyPaS9VKkMBPd3pKQ2wv4ydO"
    },
    "kernelspec": {
      "name": "python3",
      "display_name": "Python 3"
    },
    "language_info": {
      "name": "python"
    }
  },
  "cells": [
    {
      "cell_type": "code",
      "execution_count": 4,
      "metadata": {
        "id": "paopvVTy705P"
      },
      "outputs": [],
      "source": [
        "# Importar librerías\n",
        "import pandas as pd\n",
        "import numpy as np\n",
        "import matplotlib.pyplot as plt"
      ]
    },
    {
      "cell_type": "code",
      "source": [
        "# Lectura de datos\n",
        "datos = pd.read_excel(\"/content/Accidentes_Tránsito_Colombia_2010_Cod.xlsx\")\n",
        "lista_municipios = pd.read_excel(\"/content/Accidentes_2010_Codificación.xlsx\", sheet_name=0)\n",
        "lista_departamentos = pd.read_excel(\"/content/Accidentes_2010_Codificación.xlsx\", sheet_name=1)\n",
        "lista_observaciones = pd.read_excel(\"/content/Accidentes_2010_Codificación.xlsx\", sheet_name=2)\n",
        "\n",
        "# Obtener la informacion\n",
        "datos.info()"
      ],
      "metadata": {
        "colab": {
          "base_uri": "https://localhost:8080/"
        },
        "id": "z3NzFNCO8fhg",
        "outputId": "7d42742d-3081-41e9-93f6-2f193e445924"
      },
      "execution_count": 3,
      "outputs": [
        {
          "output_type": "stream",
          "name": "stdout",
          "text": [
            "<class 'pandas.core.frame.DataFrame'>\n",
            "RangeIndex: 170854 entries, 0 to 170853\n",
            "Data columns (total 9 columns):\n",
            " #   Column                     Non-Null Count   Dtype         \n",
            "---  ------                     --------------   -----         \n",
            " 0   identiaccidentalidad       170854 non-null  int64         \n",
            " 1   fecha                      170854 non-null  datetime64[ns]\n",
            " 2   codigodepartamento         170854 non-null  int64         \n",
            " 3   codigomunicipio            170854 non-null  int64         \n",
            " 4   hora                       170854 non-null  object        \n",
            " 5   codigoobservación          170854 non-null  int64         \n",
            " 6   codigoarea                 170854 non-null  int64         \n",
            " 7   codigonivelriesgoproducto  170854 non-null  int64         \n",
            " 8   codigotipoafectacion       170854 non-null  int64         \n",
            "dtypes: datetime64[ns](1), int64(7), object(1)\n",
            "memory usage: 11.7+ MB\n"
          ]
        }
      ]
    },
    {
      "cell_type": "code",
      "source": [
        "# Visualizar los datos\n",
        "datos.head()"
      ],
      "metadata": {
        "id": "fieH6TOa9wX3"
      },
      "execution_count": null,
      "outputs": []
    },
    {
      "cell_type": "code",
      "source": [
        "# Cuántos datos únicos hay en la variable Identiaccidentalidad\n",
        "datos[\"identiaccidentalidad\"].nunique()"
      ],
      "metadata": {
        "colab": {
          "base_uri": "https://localhost:8080/"
        },
        "id": "EDMQwnMg97xa",
        "outputId": "a19ebb1d-aa66-4509-a91a-afb8123639ce"
      },
      "execution_count": 8,
      "outputs": [
        {
          "output_type": "execute_result",
          "data": {
            "text/plain": [
              "170854"
            ]
          },
          "metadata": {},
          "execution_count": 8
        }
      ]
    },
    {
      "cell_type": "code",
      "source": [
        "# Asignar identiaccidentalidad como index del DF\n",
        "datos.set_index(\"identiaccidentalidad\", inplace=True)\n",
        "datos.head()"
      ],
      "metadata": {
        "id": "quGwMS5D-Rsz"
      },
      "execution_count": null,
      "outputs": []
    },
    {
      "cell_type": "code",
      "source": [
        "# Ordenar el DF por el index\n",
        "datos.sort_index()"
      ],
      "metadata": {
        "id": "0EkRcs8s-jFz"
      },
      "execution_count": null,
      "outputs": []
    },
    {
      "cell_type": "code",
      "source": [
        "# Obtener el vector de nombres de columnas o variables\n",
        "datos.columns"
      ],
      "metadata": {
        "id": "2igsdtlL-5aD"
      },
      "execution_count": null,
      "outputs": []
    },
    {
      "cell_type": "code",
      "source": [
        "# Lectura del DataFrame para las otras variables que están juntas en la misma hoja\n",
        "otras = pd.read_excel(\"/content/Accidentes_2010_Codificación.xlsx\", sheet_name=3)\n",
        "otras"
      ],
      "metadata": {
        "id": "VpAkn-T0_BQR"
      },
      "execution_count": null,
      "outputs": []
    },
    {
      "cell_type": "code",
      "source": [
        "# Decodificar la variable codigoarea\n",
        "datos.codigoarea.value_counts()\n",
        "datos.codigoarea.replace({1:\"URBANO\", 2:\"RURAL\"}, inplace=True)\n",
        "datos.codigoarea.value_counts()"
      ],
      "metadata": {
        "id": "OeYKHMN0_USe"
      },
      "execution_count": null,
      "outputs": []
    },
    {
      "cell_type": "code",
      "source": [
        "# Decodificar codigonivelriesgoproducto\n",
        "datos.codigonivelriesgoproducto.value_counts()\n",
        "datos.codigonivelriesgoproducto.replace({1:\"SOLO DANOS\", 2:\"CON HERIDOS\",\n",
        "                                         3:\"CON MUERTOS\"}, inplace=True)\n",
        "datos.codigonivelriesgoproducto.value_counts()"
      ],
      "metadata": {
        "id": "YZYPigmxAKeA"
      },
      "execution_count": null,
      "outputs": []
    },
    {
      "cell_type": "code",
      "source": [
        "datos.codigonivelriesgoproducto.replace({1:\"SOLO DANOS\", 2:\"CON HERIDOS\",\n",
        "                                         3:\"CON MUERTOS\"}, inplace=True)\n",
        "datos.codigonivelriesgoproducto.value_counts()"
      ],
      "metadata": {
        "id": "d0TIjxXkARHx"
      },
      "execution_count": null,
      "outputs": []
    },
    {
      "cell_type": "code",
      "source": [
        "# Decodificar codigotipoafectacion\n",
        "datos.codigotipoafectacion.replace({1:\"CHOQUE\",\n",
        "                                         2:\"ATROPELLO\",\n",
        "                                         3:\"VOLCAMIENTO\",\n",
        "                                         4:\"CAÍDA OCUPANTE\",\n",
        "                                         5:\"OTRO\",\n",
        "                                         6:\"INCENDIO\"},inplace=True)\n",
        "datos.codigotipoafectacion.value_counts()"
      ],
      "metadata": {
        "id": "v1hhtrfZAi_r"
      },
      "execution_count": null,
      "outputs": []
    },
    {
      "cell_type": "code",
      "source": [
        "# Decodificar codigodepartamento\n",
        "datos.codigodepartamento.value_counts()"
      ],
      "metadata": {
        "id": "NPJdSWYUA6Gs"
      },
      "execution_count": null,
      "outputs": []
    },
    {
      "cell_type": "code",
      "source": [
        "datos.codigodepartamento.nunique()"
      ],
      "metadata": {
        "id": "bGlfzM3VBD0j"
      },
      "execution_count": null,
      "outputs": []
    },
    {
      "cell_type": "code",
      "source": [
        "# Construir un diccionario de departamentos y sus códigos\n",
        "dic_departamentos = dict(zip(lista_departamentos.Cod_Dep, lista_departamentos.DEPARTAMENTO))\n",
        "dic_departamentos"
      ],
      "metadata": {
        "id": "3bSadElJBeQH"
      },
      "execution_count": null,
      "outputs": []
    },
    {
      "cell_type": "code",
      "source": [
        "departamentos = datos.codigodepartamento.map(dic_departamentos)\n",
        "departamentos.value_counts()"
      ],
      "metadata": {
        "id": "NBXlz5vhBjOC"
      },
      "execution_count": null,
      "outputs": []
    },
    {
      "cell_type": "code",
      "source": [
        "# decodificar codigomunicipio\n",
        "dic_municipios = dict(zip(lista_municipios.Cod_Mun, lista_municipios.MUNICIPIO))\n",
        "dic_municipios\n",
        "municipios = datos.codigomunicipio.map(dic_municipios)\n",
        "municipios.value_counts()"
      ],
      "metadata": {
        "id": "5udrxDBPCHlg"
      },
      "execution_count": null,
      "outputs": []
    },
    {
      "cell_type": "code",
      "source": [
        "# decodificar codigoobservación\n",
        "dic_observaciones = dict(zip(lista_observaciones.Cod_obs, lista_observaciones.OBSERVACIONES))\n",
        "observaciones = datos.codigoobservación.map(dic_observaciones)\n",
        "observaciones.value_counts()"
      ],
      "metadata": {
        "id": "rWf6-Zn6Cbtq"
      },
      "execution_count": null,
      "outputs": []
    },
    {
      "cell_type": "code",
      "source": [
        "datos2 = pd.concat([datos, departamentos, municipios, observaciones], axis=1)\n",
        "# Renombrar las variables a eliminar\n",
        "datos2.columns = ['fecha', 'x', 'y', 'hora','z', 'area', 'nivelriesgoproducto',       'tipoafectacion',\n",
        "'departamento', 'municipio','observación']\n",
        "datos2.columns"
      ],
      "metadata": {
        "id": "Yy4Xi3Z0CzIQ"
      },
      "execution_count": null,
      "outputs": []
    },
    {
      "cell_type": "code",
      "source": [
        "# Eliminar codigodepartamento, codigomunicipio, codigoobservación\n",
        "del datos2[\"x\"]\n",
        "del datos2[\"y\"]\n",
        "del datos2[\"z\"]\n",
        "datos2.columns"
      ],
      "metadata": {
        "id": "24PurPRfDVc4"
      },
      "execution_count": null,
      "outputs": []
    },
    {
      "cell_type": "code",
      "source": [
        "datos2.to_excel(\"datos_accidentes_transito.xlsx\")"
      ],
      "metadata": {
        "id": "He3JnQGsDedA"
      },
      "execution_count": 42,
      "outputs": []
    }
  ]
}